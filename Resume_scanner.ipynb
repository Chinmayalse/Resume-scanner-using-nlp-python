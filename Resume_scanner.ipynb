{
  "nbformat": 4,
  "nbformat_minor": 0,
  "metadata": {
    "colab": {
      "provenance": [],
      "authorship_tag": "ABX9TyMvCRC5LjYodEtpJJEWCj5Z",
      "include_colab_link": true
    },
    "kernelspec": {
      "name": "python3",
      "display_name": "Python 3"
    },
    "language_info": {
      "name": "python"
    }
  },
  "cells": [
    {
      "cell_type": "markdown",
      "metadata": {
        "id": "view-in-github",
        "colab_type": "text"
      },
      "source": [
        "<a href=\"https://colab.research.google.com/github/Chinmayalse/Resume-scanner-using-nlp-python/blob/main/Resume_scanner.ipynb\" target=\"_parent\"><img src=\"https://colab.research.google.com/assets/colab-badge.svg\" alt=\"Open In Colab\"/></a>"
      ]
    },
    {
      "cell_type": "code",
      "execution_count": 136,
      "metadata": {
        "colab": {
          "base_uri": "https://localhost:8080/"
        },
        "id": "xMSXtmhtrlII",
        "outputId": "4de0272b-1134-44e2-f9b1-57282e1b49a9"
      },
      "outputs": [
        {
          "output_type": "stream",
          "name": "stdout",
          "text": [
            "Requirement already satisfied: docx2txt in /usr/local/lib/python3.10/dist-packages (0.8)\n"
          ]
        }
      ],
      "source": [
        "pip install docx2txt"
      ]
    },
    {
      "cell_type": "code",
      "source": [
        "import docx2txt"
      ],
      "metadata": {
        "id": "KdvsA4jUtYav"
      },
      "execution_count": 137,
      "outputs": []
    },
    {
      "cell_type": "code",
      "source": [
        "import nltk\n",
        "nltk.download('punkt')\n",
        "nltk.download('stopwords')"
      ],
      "metadata": {
        "colab": {
          "base_uri": "https://localhost:8080/"
        },
        "id": "dVy8KC_dy6S7",
        "outputId": "763fb7e6-13f7-4b2f-9469-30dac1abfdab"
      },
      "execution_count": 138,
      "outputs": [
        {
          "output_type": "stream",
          "name": "stderr",
          "text": [
            "[nltk_data] Downloading package punkt to /root/nltk_data...\n",
            "[nltk_data]   Package punkt is already up-to-date!\n",
            "[nltk_data] Downloading package stopwords to /root/nltk_data...\n",
            "[nltk_data]   Package stopwords is already up-to-date!\n"
          ]
        },
        {
          "output_type": "execute_result",
          "data": {
            "text/plain": [
              "True"
            ]
          },
          "metadata": {},
          "execution_count": 138
        }
      ]
    },
    {
      "cell_type": "code",
      "source": [
        "import nltk\n",
        "nltk.download('wordnet')"
      ],
      "metadata": {
        "colab": {
          "base_uri": "https://localhost:8080/"
        },
        "id": "d25oc4ZOy6eP",
        "outputId": "b25fc4f8-b6a2-4c2e-adea-191f45ca53bb"
      },
      "execution_count": 139,
      "outputs": [
        {
          "output_type": "stream",
          "name": "stderr",
          "text": [
            "[nltk_data] Downloading package wordnet to /root/nltk_data...\n",
            "[nltk_data]   Package wordnet is already up-to-date!\n"
          ]
        },
        {
          "output_type": "execute_result",
          "data": {
            "text/plain": [
              "True"
            ]
          },
          "metadata": {},
          "execution_count": 139
        }
      ]
    },
    {
      "cell_type": "code",
      "source": [
        "job_desc=docx2txt.process(\"/content/jd.docx\")\n",
        "resume=docx2txt.process('/content/ChinmayResume(R20EP015).docx')"
      ],
      "metadata": {
        "id": "O8nuGmG6rl6N"
      },
      "execution_count": 140,
      "outputs": []
    },
    {
      "cell_type": "code",
      "source": [
        "job_desc"
      ],
      "metadata": {
        "colab": {
          "base_uri": "https://localhost:8080/",
          "height": 191
        },
        "id": "IGmdYdlIrl8_",
        "outputId": "684269fe-7d9d-4f1b-b03d-77e6e5a2aa37"
      },
      "execution_count": 141,
      "outputs": [
        {
          "output_type": "execute_result",
          "data": {
            "text/plain": [
              "\"About IBM \\n\\n\\n\\nIBM is a 110-year-old global technology company which is present in India since 1992. IBM is helping the world’s biggest businesses usher in their next digital chapter through Artificial Intelligence, Cloud, Quantum, Blockchain, Systems and Services. IBM is a leading innovator with 28 consecutive years of patent leadership. The diversity and breadth of the entire IBM portfolio of research, systems, software, services, and solutions uniquely distinguishes IBM India from other companies in the industry.\\xa0\\n\\n\\n\\n\\n\\nAbout the Business Unit: India Systems Development Lab (ISDL)\\n\\n\\n\\nIBM Systems division builds Servers, Storage and Systems Software which are the building blocks for next-generation IT infrastructure of enterprise customers and data centers. IBM Servers provide best-in-class reliability, scalability, performance, and end-to-end security to handle mission-critical workloads and provide seamless extension to hybrid multicloud environments.\\n\\n\\n\\nIndia Systems Development Lab (ISDL) is part of word-wide IBM Systems division. Established in 1996, the ISDL Lab is headquartered in Bengaluru, with presence in Pune and Hyderabad as well. ISDL teams work across the IBM Systems stack including Processor development, Firmware, Operating Systems, Systems Software, Storage Software, Cloud Software, Performance Engineering, System Test etc. The ISDL teams also ushered in new development models such as Agile, Design Thinking and DevOps.\\n\\n\\n\\nYour Role and Responsibilities:\\n\\n\\n\\n\\n\\nAs a Software Engineer at IBM India Systems Development Lab (IBM ISDL), you will get an opportunity to work on all the phases of product development (Design/Development, Test and Support) across core Systems technologies including Operating Systems, Firmware, Systems Software, Storage Software & Cloud Software. \\n\\nAs a Software developer at ISDL:\\n\\nYou will be focused on development of IBM Systems products interfacing with development & product management teams and end users, cutting across Geos.\\n\\nYou would analyze product requirements, determine the best course of design, implement/code the solution and test across the entire product development life cycle. One could also work on Validation and Support of IBM Systems products.\\n\\nYou get to work with a vibrant, culture driven and technically accomplished teams working to create world-class products and deployment environments, delivering an industry leading user experience for our customers\\n\\nYou will be valued for your contributions in a growing organization with broader opportunities.\\n\\n\\n\\nAt ISDL, work is more than a job - it's a calling: To build. To design. To code. To invent. To collaborate. To think along with clients. To make new products/markets. Not just to do something better, but to attempt things you've never thought was possible. Are you ready to lead in this new era of technology and solve some of the most challenging problems in Systems Software technologies? If so, let’s talk.\\n\\n\\n\\n\\n\\n\\n\\n\\n\\n\\n\\n\\n\\n\\t\\t\\t\\t\\t\\t\\t\\t\\t\\t\\t\\t\\t\\t\\t\\tPreferred Technical Expertise\\n\\n\\t\\t\\t\\t\\t\\t\\t\\t\\t\\t\\t\\t\\t\\t\\t\\t\\n\\n\\t\\t\\t\\t\\t\\t\\t\\t\\t\\t\\t\\t\\t\\t\\t\\tStrong C programming is required to understand and implement changes to the test suites.\\n\\n\\t\\t\\t\\t\\t\\t\\t\\t\\t\\t\\t\\t\\t\\t\\t\\tWiling to work in Functional Verification Test case development.\\n\\n\\t\\t\\t\\t\\t\\t\\t\\t\\t\\t\\t\\t\\t\\t\\t\\tUnderstanding of Networking, PCI, complier and memory management\\n\\n\\t\\t\\t\\t\\t\\t\\t\\t\\t\\t\\t\\t\\t\\t\\t\\tAny exposure to cryptography domain and algorithms will be an added advantage.\\n\\n\\t\\t\\t\\t\\t\\t\\t\\t\\t\\t\\t\\t\\t\\t\\t\\t\\xa0\\n\\n\\t\\t\\t\\t\\t\\t\\t\\t\\t\\t\\t\\t\\t\\t\\t\\t\\n\\n\\n\\n\\xa0\\n\\nOther skills (Common for all the positions):\\n\\nStrong Communication, analytical, interpersonal & problem solving skills\\n\\nAbility to deliver on agreed goals and the ability to coordinate activities in the team/collaborate with others to deliver on the team vision.\\n\\nAbility to work effectively in a global team environment\""
            ],
            "application/vnd.google.colaboratory.intrinsic+json": {
              "type": "string"
            }
          },
          "metadata": {},
          "execution_count": 141
        }
      ]
    },
    {
      "cell_type": "code",
      "source": [
        "from nltk.stem import WordNetLemmatizer\n",
        "lem=WordNetLemmatizer()"
      ],
      "metadata": {
        "id": "SmozJP2UrmAK"
      },
      "execution_count": 142,
      "outputs": []
    },
    {
      "cell_type": "code",
      "source": [
        "sentence1=nltk.word_tokenize(job_desc)"
      ],
      "metadata": {
        "id": "dCgujAq4uzlr"
      },
      "execution_count": 143,
      "outputs": []
    },
    {
      "cell_type": "code",
      "source": [
        "word={}\n",
        "for i in range(len(sentence1)):\n",
        "  word[i]=lem.lemmatize(sentence1[i],pos='v')"
      ],
      "metadata": {
        "id": "f4CfVdLquznu"
      },
      "execution_count": 144,
      "outputs": []
    },
    {
      "cell_type": "code",
      "source": [
        "word"
      ],
      "metadata": {
        "colab": {
          "base_uri": "https://localhost:8080/"
        },
        "id": "Huvq6nl_uzrV",
        "outputId": "9699cd1c-0122-4184-93fe-0fe3946303c9"
      },
      "execution_count": 145,
      "outputs": [
        {
          "output_type": "execute_result",
          "data": {
            "text/plain": [
              "{0: 'About',\n",
              " 1: 'IBM',\n",
              " 2: 'IBM',\n",
              " 3: 'be',\n",
              " 4: 'a',\n",
              " 5: '110-year-old',\n",
              " 6: 'global',\n",
              " 7: 'technology',\n",
              " 8: 'company',\n",
              " 9: 'which',\n",
              " 10: 'be',\n",
              " 11: 'present',\n",
              " 12: 'in',\n",
              " 13: 'India',\n",
              " 14: 'since',\n",
              " 15: '1992',\n",
              " 16: '.',\n",
              " 17: 'IBM',\n",
              " 18: 'be',\n",
              " 19: 'help',\n",
              " 20: 'the',\n",
              " 21: 'world',\n",
              " 22: '’',\n",
              " 23: 's',\n",
              " 24: 'biggest',\n",
              " 25: 'businesses',\n",
              " 26: 'usher',\n",
              " 27: 'in',\n",
              " 28: 'their',\n",
              " 29: 'next',\n",
              " 30: 'digital',\n",
              " 31: 'chapter',\n",
              " 32: 'through',\n",
              " 33: 'Artificial',\n",
              " 34: 'Intelligence',\n",
              " 35: ',',\n",
              " 36: 'Cloud',\n",
              " 37: ',',\n",
              " 38: 'Quantum',\n",
              " 39: ',',\n",
              " 40: 'Blockchain',\n",
              " 41: ',',\n",
              " 42: 'Systems',\n",
              " 43: 'and',\n",
              " 44: 'Services',\n",
              " 45: '.',\n",
              " 46: 'IBM',\n",
              " 47: 'be',\n",
              " 48: 'a',\n",
              " 49: 'lead',\n",
              " 50: 'innovator',\n",
              " 51: 'with',\n",
              " 52: '28',\n",
              " 53: 'consecutive',\n",
              " 54: 'years',\n",
              " 55: 'of',\n",
              " 56: 'patent',\n",
              " 57: 'leadership',\n",
              " 58: '.',\n",
              " 59: 'The',\n",
              " 60: 'diversity',\n",
              " 61: 'and',\n",
              " 62: 'breadth',\n",
              " 63: 'of',\n",
              " 64: 'the',\n",
              " 65: 'entire',\n",
              " 66: 'IBM',\n",
              " 67: 'portfolio',\n",
              " 68: 'of',\n",
              " 69: 'research',\n",
              " 70: ',',\n",
              " 71: 'systems',\n",
              " 72: ',',\n",
              " 73: 'software',\n",
              " 74: ',',\n",
              " 75: 'service',\n",
              " 76: ',',\n",
              " 77: 'and',\n",
              " 78: 'solutions',\n",
              " 79: 'uniquely',\n",
              " 80: 'distinguish',\n",
              " 81: 'IBM',\n",
              " 82: 'India',\n",
              " 83: 'from',\n",
              " 84: 'other',\n",
              " 85: 'company',\n",
              " 86: 'in',\n",
              " 87: 'the',\n",
              " 88: 'industry',\n",
              " 89: '.',\n",
              " 90: 'About',\n",
              " 91: 'the',\n",
              " 92: 'Business',\n",
              " 93: 'Unit',\n",
              " 94: ':',\n",
              " 95: 'India',\n",
              " 96: 'Systems',\n",
              " 97: 'Development',\n",
              " 98: 'Lab',\n",
              " 99: '(',\n",
              " 100: 'ISDL',\n",
              " 101: ')',\n",
              " 102: 'IBM',\n",
              " 103: 'Systems',\n",
              " 104: 'division',\n",
              " 105: 'build',\n",
              " 106: 'Servers',\n",
              " 107: ',',\n",
              " 108: 'Storage',\n",
              " 109: 'and',\n",
              " 110: 'Systems',\n",
              " 111: 'Software',\n",
              " 112: 'which',\n",
              " 113: 'be',\n",
              " 114: 'the',\n",
              " 115: 'build',\n",
              " 116: 'block',\n",
              " 117: 'for',\n",
              " 118: 'next-generation',\n",
              " 119: 'IT',\n",
              " 120: 'infrastructure',\n",
              " 121: 'of',\n",
              " 122: 'enterprise',\n",
              " 123: 'customers',\n",
              " 124: 'and',\n",
              " 125: 'data',\n",
              " 126: 'center',\n",
              " 127: '.',\n",
              " 128: 'IBM',\n",
              " 129: 'Servers',\n",
              " 130: 'provide',\n",
              " 131: 'best-in-class',\n",
              " 132: 'reliability',\n",
              " 133: ',',\n",
              " 134: 'scalability',\n",
              " 135: ',',\n",
              " 136: 'performance',\n",
              " 137: ',',\n",
              " 138: 'and',\n",
              " 139: 'end-to-end',\n",
              " 140: 'security',\n",
              " 141: 'to',\n",
              " 142: 'handle',\n",
              " 143: 'mission-critical',\n",
              " 144: 'workloads',\n",
              " 145: 'and',\n",
              " 146: 'provide',\n",
              " 147: 'seamless',\n",
              " 148: 'extension',\n",
              " 149: 'to',\n",
              " 150: 'hybrid',\n",
              " 151: 'multicloud',\n",
              " 152: 'environments',\n",
              " 153: '.',\n",
              " 154: 'India',\n",
              " 155: 'Systems',\n",
              " 156: 'Development',\n",
              " 157: 'Lab',\n",
              " 158: '(',\n",
              " 159: 'ISDL',\n",
              " 160: ')',\n",
              " 161: 'be',\n",
              " 162: 'part',\n",
              " 163: 'of',\n",
              " 164: 'word-wide',\n",
              " 165: 'IBM',\n",
              " 166: 'Systems',\n",
              " 167: 'division',\n",
              " 168: '.',\n",
              " 169: 'Established',\n",
              " 170: 'in',\n",
              " 171: '1996',\n",
              " 172: ',',\n",
              " 173: 'the',\n",
              " 174: 'ISDL',\n",
              " 175: 'Lab',\n",
              " 176: 'be',\n",
              " 177: 'headquarter',\n",
              " 178: 'in',\n",
              " 179: 'Bengaluru',\n",
              " 180: ',',\n",
              " 181: 'with',\n",
              " 182: 'presence',\n",
              " 183: 'in',\n",
              " 184: 'Pune',\n",
              " 185: 'and',\n",
              " 186: 'Hyderabad',\n",
              " 187: 'as',\n",
              " 188: 'well',\n",
              " 189: '.',\n",
              " 190: 'ISDL',\n",
              " 191: 'team',\n",
              " 192: 'work',\n",
              " 193: 'across',\n",
              " 194: 'the',\n",
              " 195: 'IBM',\n",
              " 196: 'Systems',\n",
              " 197: 'stack',\n",
              " 198: 'include',\n",
              " 199: 'Processor',\n",
              " 200: 'development',\n",
              " 201: ',',\n",
              " 202: 'Firmware',\n",
              " 203: ',',\n",
              " 204: 'Operating',\n",
              " 205: 'Systems',\n",
              " 206: ',',\n",
              " 207: 'Systems',\n",
              " 208: 'Software',\n",
              " 209: ',',\n",
              " 210: 'Storage',\n",
              " 211: 'Software',\n",
              " 212: ',',\n",
              " 213: 'Cloud',\n",
              " 214: 'Software',\n",
              " 215: ',',\n",
              " 216: 'Performance',\n",
              " 217: 'Engineering',\n",
              " 218: ',',\n",
              " 219: 'System',\n",
              " 220: 'Test',\n",
              " 221: 'etc',\n",
              " 222: '.',\n",
              " 223: 'The',\n",
              " 224: 'ISDL',\n",
              " 225: 'team',\n",
              " 226: 'also',\n",
              " 227: 'usher',\n",
              " 228: 'in',\n",
              " 229: 'new',\n",
              " 230: 'development',\n",
              " 231: 'model',\n",
              " 232: 'such',\n",
              " 233: 'as',\n",
              " 234: 'Agile',\n",
              " 235: ',',\n",
              " 236: 'Design',\n",
              " 237: 'Thinking',\n",
              " 238: 'and',\n",
              " 239: 'DevOps',\n",
              " 240: '.',\n",
              " 241: 'Your',\n",
              " 242: 'Role',\n",
              " 243: 'and',\n",
              " 244: 'Responsibilities',\n",
              " 245: ':',\n",
              " 246: 'As',\n",
              " 247: 'a',\n",
              " 248: 'Software',\n",
              " 249: 'Engineer',\n",
              " 250: 'at',\n",
              " 251: 'IBM',\n",
              " 252: 'India',\n",
              " 253: 'Systems',\n",
              " 254: 'Development',\n",
              " 255: 'Lab',\n",
              " 256: '(',\n",
              " 257: 'IBM',\n",
              " 258: 'ISDL',\n",
              " 259: ')',\n",
              " 260: ',',\n",
              " 261: 'you',\n",
              " 262: 'will',\n",
              " 263: 'get',\n",
              " 264: 'an',\n",
              " 265: 'opportunity',\n",
              " 266: 'to',\n",
              " 267: 'work',\n",
              " 268: 'on',\n",
              " 269: 'all',\n",
              " 270: 'the',\n",
              " 271: 'phase',\n",
              " 272: 'of',\n",
              " 273: 'product',\n",
              " 274: 'development',\n",
              " 275: '(',\n",
              " 276: 'Design/Development',\n",
              " 277: ',',\n",
              " 278: 'Test',\n",
              " 279: 'and',\n",
              " 280: 'Support',\n",
              " 281: ')',\n",
              " 282: 'across',\n",
              " 283: 'core',\n",
              " 284: 'Systems',\n",
              " 285: 'technologies',\n",
              " 286: 'include',\n",
              " 287: 'Operating',\n",
              " 288: 'Systems',\n",
              " 289: ',',\n",
              " 290: 'Firmware',\n",
              " 291: ',',\n",
              " 292: 'Systems',\n",
              " 293: 'Software',\n",
              " 294: ',',\n",
              " 295: 'Storage',\n",
              " 296: 'Software',\n",
              " 297: '&',\n",
              " 298: 'Cloud',\n",
              " 299: 'Software',\n",
              " 300: '.',\n",
              " 301: 'As',\n",
              " 302: 'a',\n",
              " 303: 'Software',\n",
              " 304: 'developer',\n",
              " 305: 'at',\n",
              " 306: 'ISDL',\n",
              " 307: ':',\n",
              " 308: 'You',\n",
              " 309: 'will',\n",
              " 310: 'be',\n",
              " 311: 'focus',\n",
              " 312: 'on',\n",
              " 313: 'development',\n",
              " 314: 'of',\n",
              " 315: 'IBM',\n",
              " 316: 'Systems',\n",
              " 317: 'products',\n",
              " 318: 'interfacing',\n",
              " 319: 'with',\n",
              " 320: 'development',\n",
              " 321: '&',\n",
              " 322: 'product',\n",
              " 323: 'management',\n",
              " 324: 'team',\n",
              " 325: 'and',\n",
              " 326: 'end',\n",
              " 327: 'users',\n",
              " 328: ',',\n",
              " 329: 'cut',\n",
              " 330: 'across',\n",
              " 331: 'Geos',\n",
              " 332: '.',\n",
              " 333: 'You',\n",
              " 334: 'would',\n",
              " 335: 'analyze',\n",
              " 336: 'product',\n",
              " 337: 'requirements',\n",
              " 338: ',',\n",
              " 339: 'determine',\n",
              " 340: 'the',\n",
              " 341: 'best',\n",
              " 342: 'course',\n",
              " 343: 'of',\n",
              " 344: 'design',\n",
              " 345: ',',\n",
              " 346: 'implement/code',\n",
              " 347: 'the',\n",
              " 348: 'solution',\n",
              " 349: 'and',\n",
              " 350: 'test',\n",
              " 351: 'across',\n",
              " 352: 'the',\n",
              " 353: 'entire',\n",
              " 354: 'product',\n",
              " 355: 'development',\n",
              " 356: 'life',\n",
              " 357: 'cycle',\n",
              " 358: '.',\n",
              " 359: 'One',\n",
              " 360: 'could',\n",
              " 361: 'also',\n",
              " 362: 'work',\n",
              " 363: 'on',\n",
              " 364: 'Validation',\n",
              " 365: 'and',\n",
              " 366: 'Support',\n",
              " 367: 'of',\n",
              " 368: 'IBM',\n",
              " 369: 'Systems',\n",
              " 370: 'products',\n",
              " 371: '.',\n",
              " 372: 'You',\n",
              " 373: 'get',\n",
              " 374: 'to',\n",
              " 375: 'work',\n",
              " 376: 'with',\n",
              " 377: 'a',\n",
              " 378: 'vibrant',\n",
              " 379: ',',\n",
              " 380: 'culture',\n",
              " 381: 'drive',\n",
              " 382: 'and',\n",
              " 383: 'technically',\n",
              " 384: 'accomplish',\n",
              " 385: 'team',\n",
              " 386: 'work',\n",
              " 387: 'to',\n",
              " 388: 'create',\n",
              " 389: 'world-class',\n",
              " 390: 'products',\n",
              " 391: 'and',\n",
              " 392: 'deployment',\n",
              " 393: 'environments',\n",
              " 394: ',',\n",
              " 395: 'deliver',\n",
              " 396: 'an',\n",
              " 397: 'industry',\n",
              " 398: 'lead',\n",
              " 399: 'user',\n",
              " 400: 'experience',\n",
              " 401: 'for',\n",
              " 402: 'our',\n",
              " 403: 'customers',\n",
              " 404: 'You',\n",
              " 405: 'will',\n",
              " 406: 'be',\n",
              " 407: 'value',\n",
              " 408: 'for',\n",
              " 409: 'your',\n",
              " 410: 'contributions',\n",
              " 411: 'in',\n",
              " 412: 'a',\n",
              " 413: 'grow',\n",
              " 414: 'organization',\n",
              " 415: 'with',\n",
              " 416: 'broader',\n",
              " 417: 'opportunities',\n",
              " 418: '.',\n",
              " 419: 'At',\n",
              " 420: 'ISDL',\n",
              " 421: ',',\n",
              " 422: 'work',\n",
              " 423: 'be',\n",
              " 424: 'more',\n",
              " 425: 'than',\n",
              " 426: 'a',\n",
              " 427: 'job',\n",
              " 428: '-',\n",
              " 429: 'it',\n",
              " 430: \"'s\",\n",
              " 431: 'a',\n",
              " 432: 'call',\n",
              " 433: ':',\n",
              " 434: 'To',\n",
              " 435: 'build',\n",
              " 436: '.',\n",
              " 437: 'To',\n",
              " 438: 'design',\n",
              " 439: '.',\n",
              " 440: 'To',\n",
              " 441: 'code',\n",
              " 442: '.',\n",
              " 443: 'To',\n",
              " 444: 'invent',\n",
              " 445: '.',\n",
              " 446: 'To',\n",
              " 447: 'collaborate',\n",
              " 448: '.',\n",
              " 449: 'To',\n",
              " 450: 'think',\n",
              " 451: 'along',\n",
              " 452: 'with',\n",
              " 453: 'clients',\n",
              " 454: '.',\n",
              " 455: 'To',\n",
              " 456: 'make',\n",
              " 457: 'new',\n",
              " 458: 'products/markets',\n",
              " 459: '.',\n",
              " 460: 'Not',\n",
              " 461: 'just',\n",
              " 462: 'to',\n",
              " 463: 'do',\n",
              " 464: 'something',\n",
              " 465: 'better',\n",
              " 466: ',',\n",
              " 467: 'but',\n",
              " 468: 'to',\n",
              " 469: 'attempt',\n",
              " 470: 'things',\n",
              " 471: 'you',\n",
              " 472: \"'ve\",\n",
              " 473: 'never',\n",
              " 474: 'think',\n",
              " 475: 'be',\n",
              " 476: 'possible',\n",
              " 477: '.',\n",
              " 478: 'Are',\n",
              " 479: 'you',\n",
              " 480: 'ready',\n",
              " 481: 'to',\n",
              " 482: 'lead',\n",
              " 483: 'in',\n",
              " 484: 'this',\n",
              " 485: 'new',\n",
              " 486: 'era',\n",
              " 487: 'of',\n",
              " 488: 'technology',\n",
              " 489: 'and',\n",
              " 490: 'solve',\n",
              " 491: 'some',\n",
              " 492: 'of',\n",
              " 493: 'the',\n",
              " 494: 'most',\n",
              " 495: 'challenge',\n",
              " 496: 'problems',\n",
              " 497: 'in',\n",
              " 498: 'Systems',\n",
              " 499: 'Software',\n",
              " 500: 'technologies',\n",
              " 501: '?',\n",
              " 502: 'If',\n",
              " 503: 'so',\n",
              " 504: ',',\n",
              " 505: 'let',\n",
              " 506: '’',\n",
              " 507: 's',\n",
              " 508: 'talk',\n",
              " 509: '.',\n",
              " 510: 'Preferred',\n",
              " 511: 'Technical',\n",
              " 512: 'Expertise',\n",
              " 513: 'Strong',\n",
              " 514: 'C',\n",
              " 515: 'program',\n",
              " 516: 'be',\n",
              " 517: 'require',\n",
              " 518: 'to',\n",
              " 519: 'understand',\n",
              " 520: 'and',\n",
              " 521: 'implement',\n",
              " 522: 'change',\n",
              " 523: 'to',\n",
              " 524: 'the',\n",
              " 525: 'test',\n",
              " 526: 'suit',\n",
              " 527: '.',\n",
              " 528: 'Wiling',\n",
              " 529: 'to',\n",
              " 530: 'work',\n",
              " 531: 'in',\n",
              " 532: 'Functional',\n",
              " 533: 'Verification',\n",
              " 534: 'Test',\n",
              " 535: 'case',\n",
              " 536: 'development',\n",
              " 537: '.',\n",
              " 538: 'Understanding',\n",
              " 539: 'of',\n",
              " 540: 'Networking',\n",
              " 541: ',',\n",
              " 542: 'PCI',\n",
              " 543: ',',\n",
              " 544: 'complier',\n",
              " 545: 'and',\n",
              " 546: 'memory',\n",
              " 547: 'management',\n",
              " 548: 'Any',\n",
              " 549: 'exposure',\n",
              " 550: 'to',\n",
              " 551: 'cryptography',\n",
              " 552: 'domain',\n",
              " 553: 'and',\n",
              " 554: 'algorithms',\n",
              " 555: 'will',\n",
              " 556: 'be',\n",
              " 557: 'an',\n",
              " 558: 'add',\n",
              " 559: 'advantage',\n",
              " 560: '.',\n",
              " 561: 'Other',\n",
              " 562: 'skills',\n",
              " 563: '(',\n",
              " 564: 'Common',\n",
              " 565: 'for',\n",
              " 566: 'all',\n",
              " 567: 'the',\n",
              " 568: 'position',\n",
              " 569: ')',\n",
              " 570: ':',\n",
              " 571: 'Strong',\n",
              " 572: 'Communication',\n",
              " 573: ',',\n",
              " 574: 'analytical',\n",
              " 575: ',',\n",
              " 576: 'interpersonal',\n",
              " 577: '&',\n",
              " 578: 'problem',\n",
              " 579: 'solve',\n",
              " 580: 'skills',\n",
              " 581: 'Ability',\n",
              " 582: 'to',\n",
              " 583: 'deliver',\n",
              " 584: 'on',\n",
              " 585: 'agree',\n",
              " 586: 'goals',\n",
              " 587: 'and',\n",
              " 588: 'the',\n",
              " 589: 'ability',\n",
              " 590: 'to',\n",
              " 591: 'coordinate',\n",
              " 592: 'activities',\n",
              " 593: 'in',\n",
              " 594: 'the',\n",
              " 595: 'team/collaborate',\n",
              " 596: 'with',\n",
              " 597: 'others',\n",
              " 598: 'to',\n",
              " 599: 'deliver',\n",
              " 600: 'on',\n",
              " 601: 'the',\n",
              " 602: 'team',\n",
              " 603: 'vision',\n",
              " 604: '.',\n",
              " 605: 'Ability',\n",
              " 606: 'to',\n",
              " 607: 'work',\n",
              " 608: 'effectively',\n",
              " 609: 'in',\n",
              " 610: 'a',\n",
              " 611: 'global',\n",
              " 612: 'team',\n",
              " 613: 'environment'}"
            ]
          },
          "metadata": {},
          "execution_count": 145
        }
      ]
    },
    {
      "cell_type": "code",
      "source": [
        "from nltk.corpus import stopwords\n",
        "s_word=stopwords.words('english')"
      ],
      "metadata": {
        "id": "kE1-GbNirmDi"
      },
      "execution_count": 146,
      "outputs": []
    },
    {
      "cell_type": "code",
      "source": [
        "new_words=[]\n",
        "for i in range(len(word)):\n",
        "  if word[i] not in s_word:\n",
        "    new_words.append(word[i])"
      ],
      "metadata": {
        "id": "nd0lp7PawHnH"
      },
      "execution_count": 147,
      "outputs": []
    },
    {
      "cell_type": "code",
      "source": [
        "len(new_words)"
      ],
      "metadata": {
        "colab": {
          "base_uri": "https://localhost:8080/"
        },
        "id": "lJJFTygNwHp9",
        "outputId": "bcc0436b-e755-4a4a-e59a-460e99bb93e9"
      },
      "execution_count": 148,
      "outputs": [
        {
          "output_type": "execute_result",
          "data": {
            "text/plain": [
              "460"
            ]
          },
          "metadata": {},
          "execution_count": 148
        }
      ]
    },
    {
      "cell_type": "code",
      "source": [
        "len(word)"
      ],
      "metadata": {
        "colab": {
          "base_uri": "https://localhost:8080/"
        },
        "id": "hBkXQmAD4yCn",
        "outputId": "b5446c81-db3b-4c9a-c6e1-a4115bfa31dc"
      },
      "execution_count": 149,
      "outputs": [
        {
          "output_type": "execute_result",
          "data": {
            "text/plain": [
              "614"
            ]
          },
          "metadata": {},
          "execution_count": 149
        }
      ]
    },
    {
      "cell_type": "code",
      "source": [
        "len(sentence1)"
      ],
      "metadata": {
        "colab": {
          "base_uri": "https://localhost:8080/"
        },
        "id": "BYNJdzY8wHs5",
        "outputId": "b3ec1872-82d2-4070-8e2f-4940eddfba34"
      },
      "execution_count": 150,
      "outputs": [
        {
          "output_type": "execute_result",
          "data": {
            "text/plain": [
              "614"
            ]
          },
          "metadata": {},
          "execution_count": 150
        }
      ]
    },
    {
      "cell_type": "code",
      "source": [
        "resume"
      ],
      "metadata": {
        "colab": {
          "base_uri": "https://localhost:8080/",
          "height": 191
        },
        "id": "MjTgH5pmwHwV",
        "outputId": "ac9bb3ce-ff95-4b50-e628-916ac01ebad1"
      },
      "execution_count": 151,
      "outputs": [
        {
          "output_type": "execute_result",
          "data": {
            "text/plain": [
              "\"Chinmay Alse\\n\\n\\n\\n\\n\\n\\tBengaluru (Karnataka)\\t9353840450 | chinmayalse03@gmail.com\\n\\n\\n\\n\\n\\nQUALIFICATION SUMMARY\\n\\n\\n\\n\\n\\nDetail-oriented and passionate Software Engineer with hands-on experience in product development across all phases, including design, development, testing, and support. Proven ability to work in a vibrant, culturally diverse, and technically accomplished team environment to deliver industry-leading user experiences. Experienced in creating responsive websites and analyzing data. Enthusiastic about front-end technologies with hands-on experience in version control systems such as Git/GitHub and data visualization tools like Power BI. Adept at collaborating effectively in a team environment.\\n\\n\\n\\n\\n\\nKEY SKILLS\\n\\n\\n\\n\\n\\n\\tProgramming Languages: C, Java, Python, SQL, JavaScript, HTML, CSS, C++\\n\\n\\n\\n\\tTools & Technologies: Jenkins, Git, Docker, Ansible\\n\\n\\tOperating Systems: Linux, Windows\\n\\n\\n\\n\\tNetworking: TCP/IP, Routing, Switching\\n\\n\\n\\n\\tOther Skills: Cryptography, Functional Verification, CI/CD, Agile Methodologies\\n\\n\\n\\nLINKS\\n\\n\\n\\n\\n\\n\\tPortfolio Website: https://chinmayalse.github.io/portfolio-webpage/\\n\\n\\tGitHub: https://github.com/Chinmayalse\\n\\n\\n\\n\\tLinkedIn: https://www.linkedin.com/in/chinmay-alse-5b0a831a4/\\n\\n\\n\\nPROJECTS\\n\\n\\n\\n\\n\\nPORTFOLIO USING HTML CSS AND JS:\\n\\n\\n\\n\\tExplore a curated collection of my latest projects that showcase my skills and experience in action. Each project here represents a unique challenge I've tackled, demonstrating my ability to innovate, problem-solve, and deliver results. Whether it's web development or graphic design, each entry is a testament to my passion for web development and my commitment to quality.\\n\\n\\n\\nREAL-TIME CI/CD PIPELINE PROJECT:\\n\\n\\n\\n\\tDesigned and implemented a comprehensive CI/CD pipeline with Jenkins and GitLab CI, automating integration and deployment processes, achieving a 50% reduction in manual errors and ensuring seamless real-time issue monitoring.\\n\\n\\n\\nRESUME SCANNER:\\n\\n\\n\\n\\tLed the development of a cutting-edge scanner using NLP techniques, reducing manual screening time by 50%, resulting in a 20% increase in candidate match rate. These systems use natural language processing (NLP) to parse and understand resumes, extracting key information such as work experience, skills, education, and other relevant details.\\n\\n\\n\\nWALMART DASBOARD USING POWER BI:\\n\\n\\n\\n\\tPerformed Data cleaning and manipulation\\n\\n\\tPerformed exploratory data analysis using pandas, matplotlib, seaborn libraries.\\n\\n\\n\\n\\tImproved customer experience by identifying potential customers across different states, occupation, gender and age groups.\\n\\n\\n\\nCERTIFICATION\\n\\n\\n\\n\\n\\nINTRODUCTION TO DEVOPS:\\n\\n\\n\\n\\tThis course provided the basic training on using the DevOps methodology to develop, test, and launch applications or websites. Gained knowledge in key DevOps concepts, including continuous integration and continuous delivery (CI/CD), infrastructure as code (IaC), automation, monitoring, and security.\\n\\n\\n\\nJava Programming: Learn Core Java and Improve Java Skills\\n\\n\\n\\n\\tCore Java refers to the fundamental aspects of the Java programming language. Learning Core Java involves understanding the basics, such as syntax, data types, control structures, and object-oriented principles like inheritance, polymorphism, encapsulation, and abstraction. It also includes mastering essential libraries and APIs for handling tasks like file I/O, exception handling, collections, and multithreading.\\n\\n\\n\\nPYTHON FOR DATA SCIENCE, AI DEVELOPMENT:\\n\\n\\n\\n\\tLearned the fundamentals of Python and its various libraries. Gained proficiency in essential libraries and frameworks such as NumPy, Pandas, and Matplotlib for data manipulation, analysis, and visualization. Developed skills to extract valuable insights from complex datasets.\\n\\n\\n\\nSQL FOR DATA SCIENCE:\\n\\n\\n\\n\\tworked with many SQL techniques and queries. Also learnt fundamentals of SQL, mastering commands for querying, updating, and managing databases.\\n\\n\\n\\nACHIEVEMENTS\\n\\n\\n\\n\\n\\n\\n\\n\\tLeadership and Teamwork Music Competition Winner: Successfully led my music team to victory in a regional music competition, showcasing exceptional leadership and teamwork skills.\\n\\n\\n\\n\\tHackathons and Competitions Hackathon Participation: Participated in a prominent hackathon event, gaining valuable experience and insights into collaborative coding and innovative problem-solving. Received a participation certificate for my efforts.\\n\\n\\n\\n\\t4/17 place in Reva Hack: Participated in Reva Hack competition where we developed a facial recognition payment system.\\n\\n\\n\\n\\n\\nEDUCATION\\n\\n\\n\\n\\n\\n\\n\\nB-tech in Electronics and Computers\\n\\nReva University\\n\\n\\n\\n\\n\\n\\n2020-2024\\n\\n\\n\\nBengaluru, Karnataka\""
            ],
            "application/vnd.google.colaboratory.intrinsic+json": {
              "type": "string"
            }
          },
          "metadata": {},
          "execution_count": 151
        }
      ]
    },
    {
      "cell_type": "code",
      "source": [
        "sentence2=nltk.word_tokenize(resume)"
      ],
      "metadata": {
        "id": "Eh99-l_7xSNk"
      },
      "execution_count": 152,
      "outputs": []
    },
    {
      "cell_type": "code",
      "source": [
        "len(sentence2)"
      ],
      "metadata": {
        "colab": {
          "base_uri": "https://localhost:8080/"
        },
        "id": "WjoMvBZD57qo",
        "outputId": "194e46a1-bf56-44cc-d57f-7f31181055d1"
      },
      "execution_count": 153,
      "outputs": [
        {
          "output_type": "execute_result",
          "data": {
            "text/plain": [
              "702"
            ]
          },
          "metadata": {},
          "execution_count": 153
        }
      ]
    },
    {
      "cell_type": "code",
      "source": [
        "word1={}\n",
        "for i in range(len(sentence2)):\n",
        "  word1[i]=lem.lemmatize(sentence2[i],pos='v')"
      ],
      "metadata": {
        "id": "UYx7sFkb57uE"
      },
      "execution_count": 154,
      "outputs": []
    },
    {
      "cell_type": "code",
      "source": [
        "lem.lemmatize(\"automatically\")"
      ],
      "metadata": {
        "colab": {
          "base_uri": "https://localhost:8080/",
          "height": 35
        },
        "id": "V5DqYosW57wl",
        "outputId": "2126273c-061f-4e5c-de68-9c8ce2499ec8"
      },
      "execution_count": 155,
      "outputs": [
        {
          "output_type": "execute_result",
          "data": {
            "text/plain": [
              "'automatically'"
            ],
            "application/vnd.google.colaboratory.intrinsic+json": {
              "type": "string"
            }
          },
          "metadata": {},
          "execution_count": 155
        }
      ]
    },
    {
      "cell_type": "code",
      "source": [
        "new_words2=[]\n",
        "for i in range(len(word1)):\n",
        "  if word1[i] not in s_word:\n",
        "    new_words2.append(word1[i])"
      ],
      "metadata": {
        "id": "Seci8su157zW"
      },
      "execution_count": 156,
      "outputs": []
    },
    {
      "cell_type": "code",
      "source": [
        "for i in range(len(new_words2)):\n",
        "  if new_words2[i] in new_words:\n",
        "    print(new_words2[i])"
      ],
      "metadata": {
        "colab": {
          "base_uri": "https://localhost:8080/"
        },
        "id": "FPN5Gmoo7qKE",
        "outputId": "49e48d77-6c69-48bb-fe47-956bbedd897c"
      },
      "execution_count": 157,
      "outputs": [
        {
          "output_type": "stream",
          "name": "stdout",
          "text": [
            "Bengaluru\n",
            "(\n",
            ")\n",
            "Software\n",
            "Engineer\n",
            "experience\n",
            "product\n",
            "development\n",
            "across\n",
            "phase\n",
            ",\n",
            "include\n",
            "design\n",
            ",\n",
            "development\n",
            ",\n",
            "test\n",
            ",\n",
            ".\n",
            "ability\n",
            "work\n",
            "vibrant\n",
            ",\n",
            ",\n",
            "technically\n",
            "accomplish\n",
            "team\n",
            "environment\n",
            "deliver\n",
            "user\n",
            "experience\n",
            ".\n",
            "create\n",
            "analyze\n",
            "data\n",
            ".\n",
            "technologies\n",
            "experience\n",
            "systems\n",
            "data\n",
            ".\n",
            "collaborate\n",
            "effectively\n",
            "team\n",
            "environment\n",
            ".\n",
            ":\n",
            "C\n",
            ",\n",
            ",\n",
            ",\n",
            ",\n",
            ",\n",
            ",\n",
            ",\n",
            "&\n",
            ":\n",
            ",\n",
            ",\n",
            ",\n",
            "Operating\n",
            "Systems\n",
            ":\n",
            ",\n",
            "Networking\n",
            ":\n",
            ",\n",
            ",\n",
            "Other\n",
            ":\n",
            ",\n",
            "Functional\n",
            "Verification\n",
            ",\n",
            ",\n",
            "Agile\n",
            ":\n",
            ":\n",
            ":\n",
            ":\n",
            ":\n",
            ":\n",
            ":\n",
            "skills\n",
            "experience\n",
            ".\n",
            "challenge\n",
            "'ve\n",
            ",\n",
            "ability\n",
            ",\n",
            ",\n",
            "deliver\n",
            ".\n",
            "'s\n",
            "development\n",
            "design\n",
            ",\n",
            "development\n",
            ".\n",
            ":\n",
            "implement\n",
            ",\n",
            "deployment\n",
            ",\n",
            "seamless\n",
            ".\n",
            ":\n",
            "development\n",
            ",\n",
            ",\n",
            ".\n",
            "systems\n",
            "(\n",
            ")\n",
            "understand\n",
            ",\n",
            "work\n",
            "experience\n",
            ",\n",
            "skills\n",
            ",\n",
            ",\n",
            ".\n",
            ":\n",
            "data\n",
            ",\n",
            ",\n",
            ".\n",
            "experience\n",
            "customers\n",
            "across\n",
            ",\n",
            ",\n",
            ".\n",
            ":\n",
            "course\n",
            "provide\n",
            "DevOps\n",
            ",\n",
            "test\n",
            ",\n",
            ".\n",
            "DevOps\n",
            ",\n",
            "include\n",
            "(\n",
            ")\n",
            ",\n",
            "infrastructure\n",
            "code\n",
            "(\n",
            ")\n",
            ",\n",
            ",\n",
            ",\n",
            "security\n",
            ".\n",
            ":\n",
            "program\n",
            ".\n",
            "understand\n",
            ",\n",
            ",\n",
            "data\n",
            ",\n",
            ",\n",
            ",\n",
            ",\n",
            ",\n",
            ".\n",
            "also\n",
            "include\n",
            "handle\n",
            ",\n",
            "handle\n",
            ",\n",
            ",\n",
            ".\n",
            ",\n",
            ":\n",
            ".\n",
            ",\n",
            ",\n",
            "data\n",
            ",\n",
            ",\n",
            ".\n",
            "skills\n",
            ".\n",
            ":\n",
            "work\n",
            ".\n",
            ",\n",
            ",\n",
            ",\n",
            ".\n",
            ":\n",
            "lead\n",
            "team\n",
            ",\n",
            "leadership\n",
            "skills\n",
            ".\n",
            ":\n",
            ",\n",
            "experience\n",
            ".\n",
            ".\n",
            ":\n",
            ".\n",
            "Bengaluru\n",
            ",\n"
          ]
        }
      ]
    },
    {
      "cell_type": "code",
      "source": [
        "new_sentence1=\" \".join(new_words)"
      ],
      "metadata": {
        "id": "j5WXffJp7qNc"
      },
      "execution_count": 158,
      "outputs": []
    },
    {
      "cell_type": "code",
      "source": [
        "new_sentence=\" \".join(new_words2)"
      ],
      "metadata": {
        "id": "nUPzbNst86FD"
      },
      "execution_count": 159,
      "outputs": []
    },
    {
      "cell_type": "code",
      "source": [
        "new_sentence"
      ],
      "metadata": {
        "colab": {
          "base_uri": "https://localhost:8080/",
          "height": 191
        },
        "id": "ZSpyf-XD89ac",
        "outputId": "373479fa-f38d-4e15-baa2-81f2c1c67293"
      },
      "execution_count": 160,
      "outputs": [
        {
          "output_type": "execute_result",
          "data": {
            "text/plain": [
              "\"Chinmay Alse Bengaluru ( Karnataka ) 9353840450 | chinmayalse03 @ gmail.com QUALIFICATION SUMMARY Detail-oriented passionate Software Engineer hands-on experience product development across phase , include design , development , test , support . Proven ability work vibrant , culturally diverse , technically accomplish team environment deliver industry-leading user experience . Experienced create responsive websites analyze data . Enthusiastic front-end technologies hands-on experience version control systems Git/GitHub data visualization tool like Power BI . Adept collaborate effectively team environment . KEY SKILLS Programming Languages : C , Java , Python , SQL , JavaScript , HTML , CSS , C++ Tools & Technologies : Jenkins , Git , Docker , Ansible Operating Systems : Linux , Windows Networking : TCP/IP , Routing , Switching Other Skills : Cryptography , Functional Verification , CI/CD , Agile Methodologies LINKS Portfolio Website : https : //chinmayalse.github.io/portfolio-webpage/ GitHub : https : //github.com/Chinmayalse LinkedIn : https : //www.linkedin.com/in/chinmay-alse-5b0a831a4/ PROJECTS PORTFOLIO USING HTML CSS AND JS : Explore curated collection latest project showcase skills experience action . Each project represent unique challenge I 've tackle , demonstrate ability innovate , problem-solve , deliver result . Whether 's web development graphic design , entry testament passion web development commitment quality . REAL-TIME CI/CD PIPELINE PROJECT : Designed implement comprehensive CI/CD pipeline Jenkins GitLab CI , automate integration deployment process , achieve 50 % reduction manual errors ensure seamless real-time issue monitor . RESUME SCANNER : Led development cutting-edge scanner use NLP techniques , reduce manual screen time 50 % , result 20 % increase candidate match rate . These systems use natural language process ( NLP ) parse understand resume , extract key information work experience , skills , education , relevant detail . WALMART DASBOARD USING POWER BI : Performed Data clean manipulation Performed exploratory data analysis use pandas , matplotlib , seaborn libraries . Improved customer experience identify potential customers across different state , occupation , gender age group . CERTIFICATION INTRODUCTION TO DEVOPS : This course provide basic train use DevOps methodology develop , test , launch applications websites . Gained knowledge key DevOps concepts , include continuous integration continuous delivery ( CI/CD ) , infrastructure code ( IaC ) , automation , monitor , security . Java Programming : Learn Core Java Improve Java Skills Core Java refer fundamental aspects Java program language . Learning Core Java involve understand basics , syntax , data type , control structure , object-oriented principles like inheritance , polymorphism , encapsulation , abstraction . It also include master essential libraries APIs handle task like file I/O , exception handle , collections , multithreading . PYTHON FOR DATA SCIENCE , AI DEVELOPMENT : Learned fundamentals Python various libraries . Gained proficiency essential libraries frameworks NumPy , Pandas , Matplotlib data manipulation , analysis , visualization . Developed skills extract valuable insights complex datasets . SQL FOR DATA SCIENCE : work many SQL techniques query . Also learn fundamentals SQL , master command query , update , manage databases . ACHIEVEMENTS Leadership Teamwork Music Competition Winner : Successfully lead music team victory regional music competition , showcasing exceptional leadership teamwork skills . Hackathons Competitions Hackathon Participation : Participated prominent hackathon event , gain valuable experience insights collaborative cod innovative problem-solving . Received participation certificate efforts . 4/17 place Reva Hack : Participated Reva Hack competition develop facial recognition payment system . EDUCATION B-tech Electronics Computers Reva University 2020-2024 Bengaluru , Karnataka\""
            ],
            "application/vnd.google.colaboratory.intrinsic+json": {
              "type": "string"
            }
          },
          "metadata": {},
          "execution_count": 160
        }
      ]
    },
    {
      "cell_type": "code",
      "source": [],
      "metadata": {
        "id": "_dSG7FSB9QvX"
      },
      "execution_count": 160,
      "outputs": []
    },
    {
      "cell_type": "code",
      "source": [],
      "metadata": {
        "id": "VFwEJQtc9QyS"
      },
      "execution_count": 160,
      "outputs": []
    },
    {
      "cell_type": "code",
      "source": [],
      "metadata": {
        "id": "NPqglS1V9Q1o"
      },
      "execution_count": 160,
      "outputs": []
    },
    {
      "cell_type": "code",
      "source": [
        "new_sentence1"
      ],
      "metadata": {
        "colab": {
          "base_uri": "https://localhost:8080/",
          "height": 191
        },
        "id": "_J8LwhS49JKV",
        "outputId": "ebf7a28c-d422-4131-96e0-7eb3ac1b87d5"
      },
      "execution_count": 161,
      "outputs": [
        {
          "output_type": "execute_result",
          "data": {
            "text/plain": [
              "\"About IBM IBM 110-year-old global technology company present India since 1992 . IBM help world ’ biggest businesses usher next digital chapter Artificial Intelligence , Cloud , Quantum , Blockchain , Systems Services . IBM lead innovator 28 consecutive years patent leadership . The diversity breadth entire IBM portfolio research , systems , software , service , solutions uniquely distinguish IBM India company industry . About Business Unit : India Systems Development Lab ( ISDL ) IBM Systems division build Servers , Storage Systems Software build block next-generation IT infrastructure enterprise customers data center . IBM Servers provide best-in-class reliability , scalability , performance , end-to-end security handle mission-critical workloads provide seamless extension hybrid multicloud environments . India Systems Development Lab ( ISDL ) part word-wide IBM Systems division . Established 1996 , ISDL Lab headquarter Bengaluru , presence Pune Hyderabad well . ISDL team work across IBM Systems stack include Processor development , Firmware , Operating Systems , Systems Software , Storage Software , Cloud Software , Performance Engineering , System Test etc . The ISDL team also usher new development model Agile , Design Thinking DevOps . Your Role Responsibilities : As Software Engineer IBM India Systems Development Lab ( IBM ISDL ) , get opportunity work phase product development ( Design/Development , Test Support ) across core Systems technologies include Operating Systems , Firmware , Systems Software , Storage Software & Cloud Software . As Software developer ISDL : You focus development IBM Systems products interfacing development & product management team end users , cut across Geos . You would analyze product requirements , determine best course design , implement/code solution test across entire product development life cycle . One could also work Validation Support IBM Systems products . You get work vibrant , culture drive technically accomplish team work create world-class products deployment environments , deliver industry lead user experience customers You value contributions grow organization broader opportunities . At ISDL , work job - 's call : To build . To design . To code . To invent . To collaborate . To think along clients . To make new products/markets . Not something better , attempt things 've never think possible . Are ready lead new era technology solve challenge problems Systems Software technologies ? If , let ’ talk . Preferred Technical Expertise Strong C program require understand implement change test suit . Wiling work Functional Verification Test case development . Understanding Networking , PCI , complier memory management Any exposure cryptography domain algorithms add advantage . Other skills ( Common position ) : Strong Communication , analytical , interpersonal & problem solve skills Ability deliver agree goals ability coordinate activities team/collaborate others deliver team vision . Ability work effectively global team environment\""
            ],
            "application/vnd.google.colaboratory.intrinsic+json": {
              "type": "string"
            }
          },
          "metadata": {},
          "execution_count": 161
        }
      ]
    },
    {
      "cell_type": "code",
      "source": [
        "content=[new_sentence,new_sentence1]"
      ],
      "metadata": {
        "id": "vvq3oWIG9ScM"
      },
      "execution_count": 162,
      "outputs": []
    },
    {
      "cell_type": "code",
      "source": [
        "content"
      ],
      "metadata": {
        "colab": {
          "base_uri": "https://localhost:8080/"
        },
        "id": "S6brLWaB9SfM",
        "outputId": "6ae6343f-a50c-407d-d5cb-210e1bfb43be"
      },
      "execution_count": 163,
      "outputs": [
        {
          "output_type": "execute_result",
          "data": {
            "text/plain": [
              "[\"Chinmay Alse Bengaluru ( Karnataka ) 9353840450 | chinmayalse03 @ gmail.com QUALIFICATION SUMMARY Detail-oriented passionate Software Engineer hands-on experience product development across phase , include design , development , test , support . Proven ability work vibrant , culturally diverse , technically accomplish team environment deliver industry-leading user experience . Experienced create responsive websites analyze data . Enthusiastic front-end technologies hands-on experience version control systems Git/GitHub data visualization tool like Power BI . Adept collaborate effectively team environment . KEY SKILLS Programming Languages : C , Java , Python , SQL , JavaScript , HTML , CSS , C++ Tools & Technologies : Jenkins , Git , Docker , Ansible Operating Systems : Linux , Windows Networking : TCP/IP , Routing , Switching Other Skills : Cryptography , Functional Verification , CI/CD , Agile Methodologies LINKS Portfolio Website : https : //chinmayalse.github.io/portfolio-webpage/ GitHub : https : //github.com/Chinmayalse LinkedIn : https : //www.linkedin.com/in/chinmay-alse-5b0a831a4/ PROJECTS PORTFOLIO USING HTML CSS AND JS : Explore curated collection latest project showcase skills experience action . Each project represent unique challenge I 've tackle , demonstrate ability innovate , problem-solve , deliver result . Whether 's web development graphic design , entry testament passion web development commitment quality . REAL-TIME CI/CD PIPELINE PROJECT : Designed implement comprehensive CI/CD pipeline Jenkins GitLab CI , automate integration deployment process , achieve 50 % reduction manual errors ensure seamless real-time issue monitor . RESUME SCANNER : Led development cutting-edge scanner use NLP techniques , reduce manual screen time 50 % , result 20 % increase candidate match rate . These systems use natural language process ( NLP ) parse understand resume , extract key information work experience , skills , education , relevant detail . WALMART DASBOARD USING POWER BI : Performed Data clean manipulation Performed exploratory data analysis use pandas , matplotlib , seaborn libraries . Improved customer experience identify potential customers across different state , occupation , gender age group . CERTIFICATION INTRODUCTION TO DEVOPS : This course provide basic train use DevOps methodology develop , test , launch applications websites . Gained knowledge key DevOps concepts , include continuous integration continuous delivery ( CI/CD ) , infrastructure code ( IaC ) , automation , monitor , security . Java Programming : Learn Core Java Improve Java Skills Core Java refer fundamental aspects Java program language . Learning Core Java involve understand basics , syntax , data type , control structure , object-oriented principles like inheritance , polymorphism , encapsulation , abstraction . It also include master essential libraries APIs handle task like file I/O , exception handle , collections , multithreading . PYTHON FOR DATA SCIENCE , AI DEVELOPMENT : Learned fundamentals Python various libraries . Gained proficiency essential libraries frameworks NumPy , Pandas , Matplotlib data manipulation , analysis , visualization . Developed skills extract valuable insights complex datasets . SQL FOR DATA SCIENCE : work many SQL techniques query . Also learn fundamentals SQL , master command query , update , manage databases . ACHIEVEMENTS Leadership Teamwork Music Competition Winner : Successfully lead music team victory regional music competition , showcasing exceptional leadership teamwork skills . Hackathons Competitions Hackathon Participation : Participated prominent hackathon event , gain valuable experience insights collaborative cod innovative problem-solving . Received participation certificate efforts . 4/17 place Reva Hack : Participated Reva Hack competition develop facial recognition payment system . EDUCATION B-tech Electronics Computers Reva University 2020-2024 Bengaluru , Karnataka\",\n",
              " \"About IBM IBM 110-year-old global technology company present India since 1992 . IBM help world ’ biggest businesses usher next digital chapter Artificial Intelligence , Cloud , Quantum , Blockchain , Systems Services . IBM lead innovator 28 consecutive years patent leadership . The diversity breadth entire IBM portfolio research , systems , software , service , solutions uniquely distinguish IBM India company industry . About Business Unit : India Systems Development Lab ( ISDL ) IBM Systems division build Servers , Storage Systems Software build block next-generation IT infrastructure enterprise customers data center . IBM Servers provide best-in-class reliability , scalability , performance , end-to-end security handle mission-critical workloads provide seamless extension hybrid multicloud environments . India Systems Development Lab ( ISDL ) part word-wide IBM Systems division . Established 1996 , ISDL Lab headquarter Bengaluru , presence Pune Hyderabad well . ISDL team work across IBM Systems stack include Processor development , Firmware , Operating Systems , Systems Software , Storage Software , Cloud Software , Performance Engineering , System Test etc . The ISDL team also usher new development model Agile , Design Thinking DevOps . Your Role Responsibilities : As Software Engineer IBM India Systems Development Lab ( IBM ISDL ) , get opportunity work phase product development ( Design/Development , Test Support ) across core Systems technologies include Operating Systems , Firmware , Systems Software , Storage Software & Cloud Software . As Software developer ISDL : You focus development IBM Systems products interfacing development & product management team end users , cut across Geos . You would analyze product requirements , determine best course design , implement/code solution test across entire product development life cycle . One could also work Validation Support IBM Systems products . You get work vibrant , culture drive technically accomplish team work create world-class products deployment environments , deliver industry lead user experience customers You value contributions grow organization broader opportunities . At ISDL , work job - 's call : To build . To design . To code . To invent . To collaborate . To think along clients . To make new products/markets . Not something better , attempt things 've never think possible . Are ready lead new era technology solve challenge problems Systems Software technologies ? If , let ’ talk . Preferred Technical Expertise Strong C program require understand implement change test suit . Wiling work Functional Verification Test case development . Understanding Networking , PCI , complier memory management Any exposure cryptography domain algorithms add advantage . Other skills ( Common position ) : Strong Communication , analytical , interpersonal & problem solve skills Ability deliver agree goals ability coordinate activities team/collaborate others deliver team vision . Ability work effectively global team environment\"]"
            ]
          },
          "metadata": {},
          "execution_count": 163
        }
      ]
    },
    {
      "cell_type": "code",
      "source": [
        "from sklearn.feature_extraction.text import CountVectorizer\n",
        "cv=CountVectorizer()"
      ],
      "metadata": {
        "id": "fLTTijJc9SiL"
      },
      "execution_count": 164,
      "outputs": []
    },
    {
      "cell_type": "code",
      "source": [
        "matrix=cv.fit_transform(content)"
      ],
      "metadata": {
        "id": "0ra5tn6M9SlL"
      },
      "execution_count": 165,
      "outputs": []
    },
    {
      "cell_type": "code",
      "source": [
        "matrix.toarray()"
      ],
      "metadata": {
        "colab": {
          "base_uri": "https://localhost:8080/"
        },
        "id": "tr0cogbT9Soj",
        "outputId": "50b87a91-d53e-474c-c5f3-834404e671d3"
      },
      "execution_count": 166,
      "outputs": [
        {
          "output_type": "execute_result",
          "data": {
            "text/plain": [
              "array([[ 0,  1,  0,  0,  1,  1,  1,  0,  2,  1,  1,  2,  0,  1,  1,  1,\n",
              "         1,  2,  1,  0,  0,  1,  0,  1,  1,  0,  1,  0,  0,  2,  2,  2,\n",
              "         0,  1,  1,  1,  0,  1,  1,  0,  0,  0,  1,  0,  0,  1,  1,  1,\n",
              "         1,  2,  0,  0,  2,  0,  0,  0,  0,  0,  0,  0,  0,  0,  1,  0,\n",
              "         4,  0,  1,  1,  1,  0,  0,  2,  2,  1,  5,  0,  1,  0,  0,  1,\n",
              "         1,  1,  1,  1,  1,  3,  1,  1,  0,  0,  0,  3,  1,  1,  0,  1,\n",
              "         1,  1,  0,  2,  0,  2,  0,  3,  0,  1,  1,  0,  1,  2,  1,  0,\n",
              "         1,  1,  1,  0,  1,  0,  1,  8,  1,  1,  2,  1,  1,  1,  2,  1,\n",
              "         2,  0,  2,  1,  0,  6,  3,  1,  0,  0,  1,  0,  0,  1,  0,  0,\n",
              "         1,  1,  2,  1,  1,  1,  1,  1,  1,  0,  1,  0,  1,  0,  1,  2,\n",
              "         0,  0,  1,  2,  0,  0,  1,  1,  1,  7,  1,  0,  1,  1,  0,  0,\n",
              "         2,  1,  1,  0,  0,  2,  1,  1,  1,  1,  2,  1,  2,  1,  0,  0,\n",
              "         0,  2,  4,  1,  0,  1,  0,  1,  1,  0,  2,  2,  1,  2,  2,  0,\n",
              "         0,  2,  3,  0,  0,  1,  0,  1,  0,  1,  1,  1,  1,  3,  1,  0,\n",
              "         1,  1,  1,  1,  1,  1,  0,  2,  2,  0,  0,  0,  1,  0,  1,  1,\n",
              "         1,  0,  1,  1,  7,  1,  2,  0,  1,  2,  3,  1,  0,  2,  1,  1,\n",
              "         1,  1,  2,  1,  2,  1,  1,  1,  0,  4,  0,  3,  2,  1,  1,  0,\n",
              "         1,  0,  2,  2,  1,  0,  2,  1,  2,  0,  1,  1,  0,  0,  2,  0,\n",
              "         1,  3,  1,  1,  0,  0,  0,  2,  0,  1,  1,  1,  0,  2,  0,  1,\n",
              "         0,  0,  0,  2,  1,  0,  2,  1,  0,  2,  2,  1,  1,  0,  1,  0,\n",
              "         0,  2,  1,  2,  1,  1,  3,  0,  0,  1,  2,  0,  0,  0,  1,  2,\n",
              "         0,  2,  0,  1,  0,  1,  1,  2,  3,  1,  1,  1,  1,  0,  3,  1,\n",
              "         1,  0,  2,  1,  0,  2,  1,  1,  1,  1,  1,  1,  1,  0,  1,  0,\n",
              "         0,  0,  0,  1,  2,  2,  3,  0,  1,  0,  2,  2,  1,  1,  1,  1,\n",
              "         0,  0,  0,  1,  1,  0,  7,  1,  0,  0,  1,  1,  0,  4,  0,  1,\n",
              "         0,  0,  1,  1,  0,  1,  1,  1,  1,  1,  3,  1,  0,  1,  1,  3,\n",
              "         2,  1,  0,  1,  2,  2,  0,  2,  1,  0,  1,  0,  0,  0,  1,  3,\n",
              "         1,  1,  1,  1,  1,  2,  0,  1,  0,  0,  1,  1,  4,  1,  0,  0,\n",
              "         2,  0,  2,  0,  1,  1,  1,  1,  1,  1,  0,  2,  1,  2,  1,  1,\n",
              "         2,  0,  1,  0,  0,  1,  1,  0,  3,  0,  0,  0,  1,  0,  0,  0,\n",
              "         0],\n",
              "       [ 1,  0,  1,  1,  0,  0,  0,  1,  0,  0,  0,  3,  2,  0,  1,  0,\n",
              "         0,  4,  0,  1,  1,  0,  1,  0,  1,  1,  0,  1,  1,  0,  2,  0,\n",
              "         1,  1,  0,  0,  1,  0,  0,  1,  1,  2,  0,  1,  1,  0,  0,  0,\n",
              "         0,  1,  2,  1,  0,  1,  1,  1,  1,  1,  3,  1,  1,  1,  0,  1,\n",
              "         0,  1,  0,  0,  1,  1,  1,  0,  0,  0,  0,  2,  0,  1,  3,  0,\n",
              "         2,  2,  0,  0,  0,  0,  0,  0,  1,  1,  2,  0,  0,  0,  1,  0,\n",
              "         0,  0,  1,  0,  1,  0,  1,  1,  1,  1,  1,  1,  1,  0,  0,  1,\n",
              "         0,  0,  2,  1,  0,  1,  0,  1,  0,  0,  3,  0,  0,  1,  4,  0,\n",
              "         0,  1,  0,  0,  1, 11,  1,  0,  1,  1,  0,  1,  2,  0,  1,  1,\n",
              "         0,  0,  0,  1,  0,  0,  0,  3,  1,  1,  0,  1,  0,  2,  0,  1,\n",
              "         2,  1,  0,  0,  1,  1,  0,  0,  0,  1,  0,  1,  0,  0,  1,  1,\n",
              "         0,  0,  0,  2,  1,  0,  0,  0,  1,  0,  0,  0,  0,  0,  1,  1,\n",
              "         2,  0,  0,  0,  2,  0,  1,  0,  0,  1,  0,  0,  0,  1,  0,  1,\n",
              "         1,  0,  0,  1,  1,  0, 14,  0,  1,  2,  0,  0,  1,  2,  0,  5,\n",
              "         2,  0,  1,  0,  0,  0,  1,  0,  0,  1,  1,  1,  0,  1,  0,  0,\n",
              "         0,  8,  0,  1,  0,  0,  0,  1,  0,  0,  0,  0,  4,  0,  0,  0,\n",
              "         0,  3,  1,  0,  0,  0,  0,  0,  1,  0,  1,  0,  0,  0,  0,  1,\n",
              "         0,  2,  0,  0,  0,  1,  0,  0,  0,  1,  0,  0,  1,  1,  0,  1,\n",
              "         0,  0,  0,  1,  1,  3,  2,  0,  1,  0,  0,  0,  1,  0,  1,  2,\n",
              "         1,  1,  1,  0,  1,  1,  0,  0,  1,  0,  0,  0,  0,  1,  0,  1,\n",
              "         2,  0,  1,  0,  0,  0,  1,  1,  1,  0,  0,  1,  1,  1,  0,  1,\n",
              "         1,  0,  1,  4,  4,  0,  1,  0,  0,  0,  0,  0,  2,  1,  0,  0,\n",
              "         0,  1,  0,  0,  1,  0,  0,  0,  0,  0,  0,  0,  0,  1,  0,  1,\n",
              "         1,  1,  1,  0,  0,  0,  0,  1,  0,  1,  0,  0,  0,  0,  1,  1,\n",
              "         2,  1,  1,  0,  0,  1,  2, 11,  1,  1,  2,  0,  1,  0,  1,  0,\n",
              "         3,  2,  0,  0,  1,  0,  2,  0,  0,  1, 17,  0,  1,  0,  0,  7,\n",
              "         0,  0,  1,  1,  0,  2,  2,  5,  0,  2,  0,  1,  2,  1,  0,  0,\n",
              "         8,  0,  0,  0,  0,  1,  1,  0,  1,  1,  0,  0,  0,  1,  1,  2,\n",
              "         0,  1,  0,  1,  0,  1,  1,  0,  1,  0,  1,  0,  0,  0,  0,  0,\n",
              "         0,  1,  0,  1,  1,  0,  0,  1,  8,  1,  2,  1,  0,  1,  1,  4,\n",
              "         1]])"
            ]
          },
          "metadata": {},
          "execution_count": 166
        }
      ]
    },
    {
      "cell_type": "code",
      "source": [
        "from sklearn.metrics.pairwise import cosine_similarity\n",
        "sim_matix=cosine_similarity(matrix)"
      ],
      "metadata": {
        "id": "qaopJt_R-FZl"
      },
      "execution_count": 167,
      "outputs": []
    },
    {
      "cell_type": "code",
      "source": [
        "sim_matix"
      ],
      "metadata": {
        "colab": {
          "base_uri": "https://localhost:8080/"
        },
        "id": "PQSxEa5--Fnn",
        "outputId": "cf6b8b57-432b-47e7-833b-aa0be603f496"
      },
      "execution_count": 168,
      "outputs": [
        {
          "output_type": "execute_result",
          "data": {
            "text/plain": [
              "array([[1.        , 0.27506951],\n",
              "       [0.27506951, 1.        ]])"
            ]
          },
          "metadata": {},
          "execution_count": 168
        }
      ]
    },
    {
      "cell_type": "code",
      "source": [
        "print(\"similarity : \",str(sim_matix[1][0]*100)+\"%\")"
      ],
      "metadata": {
        "colab": {
          "base_uri": "https://localhost:8080/"
        },
        "id": "nq1rbkJz-FrH",
        "outputId": "bc126f93-d82c-45fe-ec31-300df9fc6042"
      },
      "execution_count": 169,
      "outputs": [
        {
          "output_type": "stream",
          "name": "stdout",
          "text": [
            "similarity :  27.506950640557847%\n"
          ]
        }
      ]
    }
  ]
}